{
  "nbformat": 4,
  "nbformat_minor": 0,
  "metadata": {
    "colab": {
      "provenance": [],
      "authorship_tag": "ABX9TyN50vrXwJt1pRfoA0YLQSNL",
      "include_colab_link": true
    },
    "kernelspec": {
      "name": "python3",
      "display_name": "Python 3"
    },
    "language_info": {
      "name": "python"
    }
  },
  "cells": [
    {
      "cell_type": "markdown",
      "metadata": {
        "id": "view-in-github",
        "colab_type": "text"
      },
      "source": [
        "<a href=\"https://colab.research.google.com/github/kakoyukiko/chainer_tutorials/blob/master/chainer%E3%83%A1%E3%83%A2.ipynb\" target=\"_parent\"><img src=\"https://colab.research.google.com/assets/colab-badge.svg\" alt=\"Open In Colab\"/></a>"
      ]
    },
    {
      "cell_type": "markdown",
      "source": [
        "# 復習\n",
        "## python基礎\n",
        "\n",
        "### augmented assignment statement　(累積代入文)\n",
        "  - +=を使用する\n",
        "  - 右辺のみ変えていくと、代入された左辺が随時更新される\n",
        "\n",
        "### str()\n",
        "  - その時だけ数字や画像などが文字として認識され、処理に使われる\n",
        "  - 次の行からはまた元の数字や画像として扱われる\n",
        "\n",
        "### 比較演算子\n",
        "  - ==(同じ) や　!=(同じでない)の左右に数字を置いて、二つの値を比較する。\n",
        "  - 戻り値はbool型(True, Falseだけの型)\n",
        "  - 代入演算子(=)と間違えないように\n",
        "\n",
        "## MLに使われる数学\n",
        "\n",
        "### generalizability (汎化性能)\n",
        "  - 未知のデータに対しても精度良く予測が行えること\n",
        "\n",
        "### モデル\n",
        "  - パラメータ（係数など）を用いて計算し、与えられたデータの特徴や関係性を表すもの\n",
        "  - このパラメータの自動的に最適値を探させるのは機械学習で行われる代表的な処理のひとつ\n",
        "  - 最適値を探させるための指標を表す関数を`目的関数`という。\n",
        "  - モデルにはいろんな解釈がある\n",
        "\n",
        "### 目的関数\n",
        "  - 最適なパラメータを探すための、「良いパラメータとは何か」という指標を示すための関数\n",
        "  - モデルの予測値と目標値を受け取って、その間の差異を測って返すような関数\n",
        "  - 予測値：パラメータを使って試しに計算されて出た値\n",
        "  - 目標値：生データである値\n",
        "\n",
        "### 最適化\n",
        "  - ある関数を最小にする入力変数の値を求めること\n",
        "  - これを知るために、differential(微分)、linear algebra(線形)、probability(確率)/statistics(統計)が必要になる\n",
        "\n",
        "### スカラ\n",
        "  -  1つの値もしくは変数\n",
        "  - 温度や湿度といった単一の変数を示す\n",
        "  - 記号で示す際は、太字や斜体にされていない文字を利用する\n",
        "\n",
        "### ベクトル\n",
        "  - スカラを一列にまとめたもの\n",
        "  - 記号で示す際は、太字にする\n",
        "  - 各ベクトルの中に入っている（構成する）スカラのことを要素・成分と呼ぶ。このスカラ数=次元数\n",
        "\n",
        "### テンソル\n",
        "  - ベクトルやスカラを一般化した概念\n",
        "  - ベクトルは一階のテンソル(=一列)、行列は2階のテンソル(= 行*列)、画像はRGBなので３階のテンソル\n",
        "  - N次元にスカラを並べたものを、N階のテンソル、と表現する\n",
        "  \n",
        "\n",
        "\n",
        "\n",
        "\n",
        "\n"
      ],
      "metadata": {
        "id": "JiJvQrWB47sT"
      }
    },
    {
      "cell_type": "code",
      "source": [],
      "metadata": {
        "id": "c4Mr-qTV7RBB"
      },
      "execution_count": null,
      "outputs": []
    }
  ]
}